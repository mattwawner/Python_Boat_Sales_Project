{
 "cells": [
  {
   "cell_type": "markdown",
   "id": "7b88c78d",
   "metadata": {},
   "source": [
    "# Table of Contents\n",
    "## 1. Importing Libraries & Data\n",
    "## 2. Cleaning Data\n",
    "## 3. Regression Analysis\n",
    "## 4. Exporting Data"
   ]
  },
  {
   "cell_type": "code",
   "execution_count": 1,
   "id": "4fdc7979",
   "metadata": {},
   "outputs": [],
   "source": [
    "import pandas as pd\n",
    "import numpy as np\n",
    "import seaborn as sns\n",
    "import matplotlib\n",
    "import matplotlib.pyplot as plt\n",
    "import os\n",
    "import sklearn\n",
    "from sklearn.model_selection import train_test_split \n",
    "from sklearn.linear_model import LinearRegression\n",
    "from sklearn.metrics import mean_squared_error, r2_score"
   ]
  },
  {
   "cell_type": "markdown",
   "id": "1a467e99",
   "metadata": {},
   "source": [
    "### 1. Importing Libraries & Data"
   ]
  },
  {
   "cell_type": "code",
   "execution_count": 2,
   "id": "08935177",
   "metadata": {},
   "outputs": [],
   "source": [
    "# This option ensures that the graphs you create are displayed within the notebook without the need to \"call\" them specifically.\n",
    "\n",
    "%matplotlib inline"
   ]
  },
  {
   "cell_type": "code",
   "execution_count": 3,
   "id": "7a115c60",
   "metadata": {},
   "outputs": [],
   "source": [
    "# Creating path\n",
    "\n",
    "path = r'/Users/mattwawner/Documents/Achievement 6'"
   ]
  },
  {
   "cell_type": "code",
   "execution_count": 4,
   "id": "da63e445",
   "metadata": {},
   "outputs": [],
   "source": [
    "# Importing data\n",
    "\n",
    "df = pd.read_pickle(os.path.join(path, '2Clean_Boat_Data.pkl'))"
   ]
  },
  {
   "cell_type": "markdown",
   "id": "16bc589d",
   "metadata": {},
   "source": [
    "# 2. Cleaning Data"
   ]
  },
  {
   "cell_type": "code",
   "execution_count": 5,
   "id": "f82bdcf7",
   "metadata": {},
   "outputs": [
    {
     "data": {
      "text/plain": [
       "Index(['Boat Type', 'Manufacturer', 'Year Built', 'Length', 'Width',\n",
       "       'Material', 'Views last week', 'Euro Price', 'Country', 'Region',\n",
       "       'City', 'Fuel Type', 'New/Used', 'Age Range', 'Length Range',\n",
       "       'View Group'],\n",
       "      dtype='object')"
      ]
     },
     "execution_count": 5,
     "metadata": {},
     "output_type": "execute_result"
    }
   ],
   "source": [
    "df.columns"
   ]
  },
  {
   "cell_type": "code",
   "execution_count": 6,
   "id": "d158ff94",
   "metadata": {},
   "outputs": [
    {
     "data": {
      "text/html": [
       "<div>\n",
       "<style scoped>\n",
       "    .dataframe tbody tr th:only-of-type {\n",
       "        vertical-align: middle;\n",
       "    }\n",
       "\n",
       "    .dataframe tbody tr th {\n",
       "        vertical-align: top;\n",
       "    }\n",
       "\n",
       "    .dataframe thead th {\n",
       "        text-align: right;\n",
       "    }\n",
       "</style>\n",
       "<table border=\"1\" class=\"dataframe\">\n",
       "  <thead>\n",
       "    <tr style=\"text-align: right;\">\n",
       "      <th></th>\n",
       "      <th>Boat Type</th>\n",
       "      <th>Manufacturer</th>\n",
       "      <th>Year Built</th>\n",
       "      <th>Length</th>\n",
       "      <th>Width</th>\n",
       "      <th>Material</th>\n",
       "      <th>Views last week</th>\n",
       "      <th>Euro Price</th>\n",
       "      <th>Country</th>\n",
       "      <th>Region</th>\n",
       "      <th>City</th>\n",
       "      <th>Fuel Type</th>\n",
       "      <th>New/Used</th>\n",
       "      <th>Age Range</th>\n",
       "      <th>Length Range</th>\n",
       "      <th>View Group</th>\n",
       "    </tr>\n",
       "  </thead>\n",
       "  <tbody>\n",
       "    <tr>\n",
       "      <th>0</th>\n",
       "      <td>Motor Yacht</td>\n",
       "      <td>Rigiflex power boats</td>\n",
       "      <td>2017</td>\n",
       "      <td>4.00</td>\n",
       "      <td>1.90</td>\n",
       "      <td>nan</td>\n",
       "      <td>226</td>\n",
       "      <td>3370.37</td>\n",
       "      <td>Switzerland</td>\n",
       "      <td>Lake Geneva</td>\n",
       "      <td>VÃ©senaz</td>\n",
       "      <td>None</td>\n",
       "      <td>new boat from stock</td>\n",
       "      <td>After 2010</td>\n",
       "      <td>Under 8m long</td>\n",
       "      <td>200-400</td>\n",
       "    </tr>\n",
       "    <tr>\n",
       "      <th>1</th>\n",
       "      <td>Center console boat</td>\n",
       "      <td>Terhi power boats</td>\n",
       "      <td>2020</td>\n",
       "      <td>4.00</td>\n",
       "      <td>1.50</td>\n",
       "      <td>Thermoplastic</td>\n",
       "      <td>75</td>\n",
       "      <td>3490.00</td>\n",
       "      <td>Germany</td>\n",
       "      <td>BÃ¶nningstedt</td>\n",
       "      <td>None</td>\n",
       "      <td>None</td>\n",
       "      <td>new boat from stock</td>\n",
       "      <td>After 2010</td>\n",
       "      <td>Under 8m long</td>\n",
       "      <td>Under 200 views</td>\n",
       "    </tr>\n",
       "    <tr>\n",
       "      <th>3</th>\n",
       "      <td>Sport Boat</td>\n",
       "      <td>Pioner power boats</td>\n",
       "      <td>2020</td>\n",
       "      <td>3.00</td>\n",
       "      <td>1.00</td>\n",
       "      <td>nan</td>\n",
       "      <td>64</td>\n",
       "      <td>3367.00</td>\n",
       "      <td>Denmark</td>\n",
       "      <td>Svendborg</td>\n",
       "      <td>None</td>\n",
       "      <td>None</td>\n",
       "      <td>new boat from stock</td>\n",
       "      <td>After 2010</td>\n",
       "      <td>Under 8m long</td>\n",
       "      <td>Under 200 views</td>\n",
       "    </tr>\n",
       "    <tr>\n",
       "      <th>4</th>\n",
       "      <td>Fishing Boat</td>\n",
       "      <td>Linder power boats</td>\n",
       "      <td>2019</td>\n",
       "      <td>3.55</td>\n",
       "      <td>1.46</td>\n",
       "      <td>Aluminium</td>\n",
       "      <td>58</td>\n",
       "      <td>3399.00</td>\n",
       "      <td>Germany</td>\n",
       "      <td>Bayern</td>\n",
       "      <td>MÃ¼nchen</td>\n",
       "      <td>None</td>\n",
       "      <td>new boat from stock</td>\n",
       "      <td>After 2010</td>\n",
       "      <td>Under 8m long</td>\n",
       "      <td>Under 200 views</td>\n",
       "    </tr>\n",
       "    <tr>\n",
       "      <th>6</th>\n",
       "      <td>Catamaran</td>\n",
       "      <td>nan</td>\n",
       "      <td>1999</td>\n",
       "      <td>6.20</td>\n",
       "      <td>2.38</td>\n",
       "      <td>Aluminium</td>\n",
       "      <td>474</td>\n",
       "      <td>3636.00</td>\n",
       "      <td>Switzerland</td>\n",
       "      <td>Neuenburgersee</td>\n",
       "      <td>Yvonand</td>\n",
       "      <td>Unleaded</td>\n",
       "      <td>Used boat</td>\n",
       "      <td>Before 2000</td>\n",
       "      <td>Under 8m long</td>\n",
       "      <td>Over 400 views</td>\n",
       "    </tr>\n",
       "  </tbody>\n",
       "</table>\n",
       "</div>"
      ],
      "text/plain": [
       "             Boat Type          Manufacturer  Year Built  Length  Width  \\\n",
       "0          Motor Yacht  Rigiflex power boats        2017    4.00   1.90   \n",
       "1  Center console boat     Terhi power boats        2020    4.00   1.50   \n",
       "3           Sport Boat    Pioner power boats        2020    3.00   1.00   \n",
       "4         Fishing Boat    Linder power boats        2019    3.55   1.46   \n",
       "6            Catamaran                   nan        1999    6.20   2.38   \n",
       "\n",
       "        Material  Views last week  Euro Price       Country            Region  \\\n",
       "0            nan              226     3370.37  Switzerland       Lake Geneva    \n",
       "1  Thermoplastic               75     3490.00      Germany      BÃ¶nningstedt   \n",
       "3            nan               64     3367.00      Denmark          Svendborg   \n",
       "4      Aluminium               58     3399.00      Germany            Bayern    \n",
       "6      Aluminium              474     3636.00  Switzerland    Neuenburgersee    \n",
       "\n",
       "        City Fuel Type             New/Used    Age Range   Length Range  \\\n",
       "0   VÃ©senaz      None  new boat from stock   After 2010  Under 8m long   \n",
       "1       None      None  new boat from stock   After 2010  Under 8m long   \n",
       "3       None      None  new boat from stock   After 2010  Under 8m long   \n",
       "4   MÃ¼nchen      None  new boat from stock   After 2010  Under 8m long   \n",
       "6   Yvonand   Unleaded            Used boat  Before 2000  Under 8m long   \n",
       "\n",
       "        View Group  \n",
       "0          200-400  \n",
       "1  Under 200 views  \n",
       "3  Under 200 views  \n",
       "4  Under 200 views  \n",
       "6   Over 400 views  "
      ]
     },
     "execution_count": 6,
     "metadata": {},
     "output_type": "execute_result"
    }
   ],
   "source": [
    "df.head()"
   ]
  },
  {
   "cell_type": "code",
   "execution_count": 7,
   "id": "5dfed51b",
   "metadata": {},
   "outputs": [
    {
     "data": {
      "text/plain": [
       "(9337, 16)"
      ]
     },
     "execution_count": 7,
     "metadata": {},
     "output_type": "execute_result"
    }
   ],
   "source": [
    "df.shape"
   ]
  },
  {
   "cell_type": "code",
   "execution_count": 8,
   "id": "abc4a013",
   "metadata": {},
   "outputs": [
    {
     "data": {
      "text/plain": [
       "Boat Type             0\n",
       "Manufacturer          0\n",
       "Year Built            0\n",
       "Length                0\n",
       "Width                 0\n",
       "Material              0\n",
       "Views last week       0\n",
       "Euro Price            0\n",
       "Country               0\n",
       "Region              888\n",
       "City               6353\n",
       "Fuel Type          2131\n",
       "New/Used              0\n",
       "Age Range             0\n",
       "Length Range          0\n",
       "View Group            0\n",
       "dtype: int64"
      ]
     },
     "execution_count": 8,
     "metadata": {},
     "output_type": "execute_result"
    }
   ],
   "source": [
    "# Checking for missing values\n",
    "\n",
    "df.isnull().sum()"
   ]
  },
  {
   "cell_type": "markdown",
   "id": "09181cef",
   "metadata": {},
   "source": [
    "### Since the missing values are categorical variables, I did not replace them for this analysis"
   ]
  },
  {
   "cell_type": "code",
   "execution_count": 9,
   "id": "19f25dfd",
   "metadata": {},
   "outputs": [],
   "source": [
    "# Checking for duplicates\n",
    "\n",
    "dups=df.duplicated()"
   ]
  },
  {
   "cell_type": "code",
   "execution_count": 10,
   "id": "d7662238",
   "metadata": {},
   "outputs": [
    {
     "data": {
      "text/plain": [
       "(9337,)"
      ]
     },
     "execution_count": 10,
     "metadata": {},
     "output_type": "execute_result"
    }
   ],
   "source": [
    "dups.shape"
   ]
  },
  {
   "cell_type": "markdown",
   "id": "acbfd111",
   "metadata": {},
   "source": [
    "### No duplicate values were found"
   ]
  },
  {
   "cell_type": "code",
   "execution_count": 11,
   "id": "a1742fa8",
   "metadata": {},
   "outputs": [
    {
     "name": "stderr",
     "output_type": "stream",
     "text": [
      "/Users/mattwawner/opt/anaconda3/lib/python3.9/site-packages/seaborn/distributions.py:2619: FutureWarning: `distplot` is a deprecated function and will be removed in a future version. Please adapt your code to use either `displot` (a figure-level function with similar flexibility) or `histplot` (an axes-level function for histograms).\n",
      "  warnings.warn(msg, FutureWarning)\n"
     ]
    },
    {
     "data": {
      "text/plain": [
       "<AxesSubplot:xlabel='Year Built', ylabel='Density'>"
      ]
     },
     "execution_count": 11,
     "metadata": {},
     "output_type": "execute_result"
    },
    {
     "data": {
      "image/png": "[encoded data removed]",
      "text/plain": [
       "<Figure size 432x288 with 1 Axes>"
      ]
     },
     "metadata": {
      "needs_background": "light"
     },
     "output_type": "display_data"
    }
   ],
   "source": [
    "# Checking for extreme values\n",
    "\n",
    "sns.distplot(df['Year Built'], bins=10) "
   ]
  },
  {
   "cell_type": "code",
   "execution_count": 12,
   "id": "3b7fca55",
   "metadata": {},
   "outputs": [
    {
     "data": {
      "text/plain": [
       "1885"
      ]
     },
     "execution_count": 12,
     "metadata": {},
     "output_type": "execute_result"
    }
   ],
   "source": [
    "df['Year Built'].min()"
   ]
  },
  {
   "cell_type": "code",
   "execution_count": 13,
   "id": "e441dfd0",
   "metadata": {},
   "outputs": [
    {
     "name": "stderr",
     "output_type": "stream",
     "text": [
      "/Users/mattwawner/opt/anaconda3/lib/python3.9/site-packages/seaborn/distributions.py:2619: FutureWarning: `distplot` is a deprecated function and will be removed in a future version. Please adapt your code to use either `displot` (a figure-level function with similar flexibility) or `histplot` (an axes-level function for histograms).\n",
      "  warnings.warn(msg, FutureWarning)\n"
     ]
    },
    {
     "data": {
      "text/plain": [
       "<AxesSubplot:xlabel='Length', ylabel='Density'>"
      ]
     },
     "execution_count": 13,
     "metadata": {},
     "output_type": "execute_result"
    },
    {
     "data": {
      "image/png": "[encoded data removed]",
      "text/plain": [
       "<Figure size 432x288 with 1 Axes>"
      ]
     },
     "metadata": {
      "needs_background": "light"
     },
     "output_type": "display_data"
    }
   ],
   "source": [
    "sns.distplot(df['Length'], bins=10) "
   ]
  },
  {
   "cell_type": "code",
   "execution_count": 14,
   "id": "482611ec",
   "metadata": {},
   "outputs": [
    {
     "name": "stderr",
     "output_type": "stream",
     "text": [
      "/Users/mattwawner/opt/anaconda3/lib/python3.9/site-packages/seaborn/distributions.py:2619: FutureWarning: `distplot` is a deprecated function and will be removed in a future version. Please adapt your code to use either `displot` (a figure-level function with similar flexibility) or `histplot` (an axes-level function for histograms).\n",
      "  warnings.warn(msg, FutureWarning)\n"
     ]
    },
    {
     "data": {
      "text/plain": [
       "<AxesSubplot:xlabel='Width', ylabel='Density'>"
      ]
     },
     "execution_count": 14,
     "metadata": {},
     "output_type": "execute_result"
    },
    {
     "data": {
      "image/png": "[encoded data removed]",
      "text/plain": [
       "<Figure size 432x288 with 1 Axes>"
      ]
     },
     "metadata": {
      "needs_background": "light"
     },
     "output_type": "display_data"
    }
   ],
   "source": [
    "sns.distplot(df['Width'], bins=10) "
   ]
  },
  {
   "cell_type": "code",
   "execution_count": 15,
   "id": "496b9494",
   "metadata": {},
   "outputs": [
    {
     "name": "stderr",
     "output_type": "stream",
     "text": [
      "/Users/mattwawner/opt/anaconda3/lib/python3.9/site-packages/seaborn/distributions.py:2619: FutureWarning: `distplot` is a deprecated function and will be removed in a future version. Please adapt your code to use either `displot` (a figure-level function with similar flexibility) or `histplot` (an axes-level function for histograms).\n",
      "  warnings.warn(msg, FutureWarning)\n"
     ]
    },
    {
     "data": {
      "text/plain": [
       "<AxesSubplot:xlabel='Views last week', ylabel='Density'>"
      ]
     },
     "execution_count": 15,
     "metadata": {},
     "output_type": "execute_result"
    },
    {
     "data": {
      "image/png": "[encoded data removed]",
      "text/plain": [
       "<Figure size 432x288 with 1 Axes>"
      ]
     },
     "metadata": {
      "needs_background": "light"
     },
     "output_type": "display_data"
    }
   ],
   "source": [
    "sns.distplot(df['Views last week'], bins=30) "
   ]
  },
  {
   "cell_type": "code",
   "execution_count": 16,
   "id": "a2846594",
   "metadata": {},
   "outputs": [
    {
     "data": {
      "image/png": "[encoded data removed]",
      "text/plain": [
       "<Figure size 432x288 with 1 Axes>"
      ]
     },
     "metadata": {
      "needs_background": "light"
     },
     "output_type": "display_data"
    }
   ],
   "source": [
    "# Creating a scatter plot\n",
    "\n",
    "df.plot(x = 'Length', y='Euro Price',style='o') \n",
    "plt.title('Length vs Euro Price')  \n",
    "plt.xlabel('Length')  \n",
    "plt.ylabel('Euro Price')  \n",
    "plt.show()"
   ]
  },
  {
   "cell_type": "markdown",
   "id": "d5626884",
   "metadata": {},
   "source": [
    "# Hypothesis\n",
    "### As the length of the boat increases, the Euro price will also increase. More specifically, the price will increase at a much faster pace as the length of a boat exceeds 20m."
   ]
  },
  {
   "cell_type": "markdown",
   "id": "495f3f8e",
   "metadata": {},
   "source": [
    "# 3. Regression Analysis"
   ]
  },
  {
   "cell_type": "code",
   "execution_count": 17,
   "id": "aacdbe13",
   "metadata": {},
   "outputs": [],
   "source": [
    "X = df['Length'].values.reshape(-1,1)\n",
    "y = df['Euro Price'].values.reshape(-1,1)"
   ]
  },
  {
   "cell_type": "code",
   "execution_count": 18,
   "id": "0e0edee0",
   "metadata": {},
   "outputs": [
    {
     "data": {
      "text/plain": [
       "array([[4.  ],\n",
       "       [4.  ],\n",
       "       [3.  ],\n",
       "       ...,\n",
       "       [4.4 ],\n",
       "       [4.37],\n",
       "       [3.6 ]])"
      ]
     },
     "execution_count": 18,
     "metadata": {},
     "output_type": "execute_result"
    }
   ],
   "source": [
    "X"
   ]
  },
  {
   "cell_type": "code",
   "execution_count": 19,
   "id": "e0baa3a6",
   "metadata": {},
   "outputs": [
    {
     "data": {
      "text/plain": [
       "array([[3370.37],\n",
       "       [3490.  ],\n",
       "       [3367.  ],\n",
       "       ...,\n",
       "       [4499.  ],\n",
       "       [4300.  ],\n",
       "       [3817.8 ]])"
      ]
     },
     "execution_count": 19,
     "metadata": {},
     "output_type": "execute_result"
    }
   ],
   "source": [
    "y"
   ]
  },
  {
   "cell_type": "markdown",
   "id": "9df5be2b",
   "metadata": {},
   "source": [
    "# Split data into a training set and a test set."
   ]
  },
  {
   "cell_type": "code",
   "execution_count": 20,
   "id": "ab32a06e",
   "metadata": {},
   "outputs": [],
   "source": [
    "# Splitting data into training & test set\n",
    "\n",
    "X_train, X_test, y_train, y_test = train_test_split(X, y, test_size=0.3, random_state=0)"
   ]
  },
  {
   "cell_type": "code",
   "execution_count": 21,
   "id": "2c042269",
   "metadata": {},
   "outputs": [],
   "source": [
    "# Create a regression object.\n",
    "\n",
    "regression = LinearRegression()"
   ]
  },
  {
   "cell_type": "code",
   "execution_count": 22,
   "id": "23821620",
   "metadata": {},
   "outputs": [
    {
     "data": {
      "text/plain": [
       "LinearRegression()"
      ]
     },
     "execution_count": 22,
     "metadata": {},
     "output_type": "execute_result"
    }
   ],
   "source": [
    "# Fit the regression object onto the training set.\n",
    "\n",
    "regression.fit(X_train, y_train)"
   ]
  },
  {
   "cell_type": "code",
   "execution_count": 23,
   "id": "2eb15298",
   "metadata": {},
   "outputs": [],
   "source": [
    "# Predict the values of y using X.\n",
    "\n",
    "y_predicted = regression.predict(X_test)"
   ]
  },
  {
   "cell_type": "code",
   "execution_count": 24,
   "id": "a2d7f7f8",
   "metadata": {},
   "outputs": [
    {
     "data": {
      "image/png": "[encoded data removed]",
      "text/plain": [
       "<Figure size 432x288 with 1 Axes>"
      ]
     },
     "metadata": {
      "needs_background": "light"
     },
     "output_type": "display_data"
    }
   ],
   "source": [
    "# Create a plot that shows the regression line from the model on the test set.\n",
    "\n",
    "plot_test = plt\n",
    "plot_test.scatter(X_test, y_test, color='gray', s = 15)\n",
    "plot_test.plot(X_test, y_predicted, color='red', linewidth =3)\n",
    "plot_test.title('Length vs Price (Test set)')\n",
    "plot_test.xlabel('Length (m)')\n",
    "plot_test.ylabel('Listed Price (Euros)')\n",
    "plot_test.show()"
   ]
  },
  {
   "cell_type": "code",
   "execution_count": 25,
   "id": "96519576",
   "metadata": {},
   "outputs": [],
   "source": [
    "# Create objects that contain the model summary statistics.\n",
    "\n",
    "rmse = mean_squared_error(y_test, y_predicted) # This is the mean squared error\n",
    "r2 = r2_score(y_test, y_predicted) # This is the R2 score. "
   ]
  },
  {
   "cell_type": "code",
   "execution_count": 26,
   "id": "e6930e41",
   "metadata": {},
   "outputs": [
    {
     "name": "stdout",
     "output_type": "stream",
     "text": [
      "Slope: [[87748.56608004]]\n",
      "Mean squared error:  523338972825.466\n",
      "R2 score:  0.3257860780956171\n"
     ]
    }
   ],
   "source": [
    "# Print the model summary statistics. This is where you evaluate the performance of the model.\n",
    "\n",
    "print('Slope:' ,regression.coef_)\n",
    "print('Mean squared error: ', rmse)\n",
    "print('R2 score: ', r2)"
   ]
  },
  {
   "cell_type": "code",
   "execution_count": 27,
   "id": "f0a473ee",
   "metadata": {},
   "outputs": [
    {
     "data": {
      "text/plain": [
       "array([[-163673.64132778],\n",
       "       [ 305781.18720044],\n",
       "       [-156653.75604137],\n",
       "       ...,\n",
       "       [ -82944.96053414],\n",
       "       [ 573414.31374457],\n",
       "       [  35515.60367392]])"
      ]
     },
     "execution_count": 27,
     "metadata": {},
     "output_type": "execute_result"
    }
   ],
   "source": [
    "y_predicted"
   ]
  },
  {
   "cell_type": "code",
   "execution_count": 28,
   "id": "7c3441c2",
   "metadata": {},
   "outputs": [
    {
     "data": {
      "text/html": [
       "<div>\n",
       "<style scoped>\n",
       "    .dataframe tbody tr th:only-of-type {\n",
       "        vertical-align: middle;\n",
       "    }\n",
       "\n",
       "    .dataframe tbody tr th {\n",
       "        vertical-align: top;\n",
       "    }\n",
       "\n",
       "    .dataframe thead th {\n",
       "        text-align: right;\n",
       "    }\n",
       "</style>\n",
       "<table border=\"1\" class=\"dataframe\">\n",
       "  <thead>\n",
       "    <tr style=\"text-align: right;\">\n",
       "      <th></th>\n",
       "      <th>Actual</th>\n",
       "      <th>Predicted</th>\n",
       "    </tr>\n",
       "  </thead>\n",
       "  <tbody>\n",
       "    <tr>\n",
       "      <th>0</th>\n",
       "      <td>25250.0</td>\n",
       "      <td>-1.636736e+05</td>\n",
       "    </tr>\n",
       "    <tr>\n",
       "      <th>1</th>\n",
       "      <td>77000.0</td>\n",
       "      <td>3.057812e+05</td>\n",
       "    </tr>\n",
       "    <tr>\n",
       "      <th>2</th>\n",
       "      <td>44000.0</td>\n",
       "      <td>-1.566538e+05</td>\n",
       "    </tr>\n",
       "    <tr>\n",
       "      <th>3</th>\n",
       "      <td>37990.0</td>\n",
       "      <td>2.937320e+04</td>\n",
       "    </tr>\n",
       "    <tr>\n",
       "      <th>4</th>\n",
       "      <td>70000.0</td>\n",
       "      <td>2.785791e+05</td>\n",
       "    </tr>\n",
       "    <tr>\n",
       "      <th>5</th>\n",
       "      <td>19160.0</td>\n",
       "      <td>-2.207102e+05</td>\n",
       "    </tr>\n",
       "    <tr>\n",
       "      <th>6</th>\n",
       "      <td>75000.0</td>\n",
       "      <td>1.487113e+05</td>\n",
       "    </tr>\n",
       "    <tr>\n",
       "      <th>7</th>\n",
       "      <td>19000.0</td>\n",
       "      <td>1.083469e+05</td>\n",
       "    </tr>\n",
       "    <tr>\n",
       "      <th>8</th>\n",
       "      <td>62665.0</td>\n",
       "      <td>-7.153765e+04</td>\n",
       "    </tr>\n",
       "    <tr>\n",
       "      <th>9</th>\n",
       "      <td>1699000.0</td>\n",
       "      <td>1.959842e+06</td>\n",
       "    </tr>\n",
       "    <tr>\n",
       "      <th>10</th>\n",
       "      <td>3600000.0</td>\n",
       "      <td>3.153222e+06</td>\n",
       "    </tr>\n",
       "    <tr>\n",
       "      <th>11</th>\n",
       "      <td>245000.0</td>\n",
       "      <td>1.292953e+06</td>\n",
       "    </tr>\n",
       "    <tr>\n",
       "      <th>12</th>\n",
       "      <td>232000.0</td>\n",
       "      <td>6.523880e+05</td>\n",
       "    </tr>\n",
       "    <tr>\n",
       "      <th>13</th>\n",
       "      <td>225000.0</td>\n",
       "      <td>5.295400e+05</td>\n",
       "    </tr>\n",
       "    <tr>\n",
       "      <th>14</th>\n",
       "      <td>169000.0</td>\n",
       "      <td>4.154669e+05</td>\n",
       "    </tr>\n",
       "    <tr>\n",
       "      <th>15</th>\n",
       "      <td>258000.0</td>\n",
       "      <td>1.513437e+05</td>\n",
       "    </tr>\n",
       "    <tr>\n",
       "      <th>16</th>\n",
       "      <td>390000.0</td>\n",
       "      <td>7.401366e+05</td>\n",
       "    </tr>\n",
       "    <tr>\n",
       "      <th>17</th>\n",
       "      <td>145000.0</td>\n",
       "      <td>4.786459e+05</td>\n",
       "    </tr>\n",
       "    <tr>\n",
       "      <th>18</th>\n",
       "      <td>2500000.0</td>\n",
       "      <td>2.021266e+06</td>\n",
       "    </tr>\n",
       "    <tr>\n",
       "      <th>19</th>\n",
       "      <td>20301.0</td>\n",
       "      <td>-1.636736e+05</td>\n",
       "    </tr>\n",
       "    <tr>\n",
       "      <th>20</th>\n",
       "      <td>100000.0</td>\n",
       "      <td>1.522212e+05</td>\n",
       "    </tr>\n",
       "    <tr>\n",
       "      <th>21</th>\n",
       "      <td>85000.0</td>\n",
       "      <td>5.833023e+04</td>\n",
       "    </tr>\n",
       "    <tr>\n",
       "      <th>22</th>\n",
       "      <td>59000.0</td>\n",
       "      <td>1.373039e+05</td>\n",
       "    </tr>\n",
       "    <tr>\n",
       "      <th>23</th>\n",
       "      <td>40299.0</td>\n",
       "      <td>-1.505114e+05</td>\n",
       "    </tr>\n",
       "    <tr>\n",
       "      <th>24</th>\n",
       "      <td>5757.0</td>\n",
       "      <td>-3.611079e+05</td>\n",
       "    </tr>\n",
       "    <tr>\n",
       "      <th>25</th>\n",
       "      <td>46460.0</td>\n",
       "      <td>-2.163228e+05</td>\n",
       "    </tr>\n",
       "    <tr>\n",
       "      <th>26</th>\n",
       "      <td>335000.0</td>\n",
       "      <td>6.383483e+05</td>\n",
       "    </tr>\n",
       "    <tr>\n",
       "      <th>27</th>\n",
       "      <td>7200.0</td>\n",
       "      <td>-3.654953e+05</td>\n",
       "    </tr>\n",
       "    <tr>\n",
       "      <th>28</th>\n",
       "      <td>320000.0</td>\n",
       "      <td>7.103021e+05</td>\n",
       "    </tr>\n",
       "    <tr>\n",
       "      <th>29</th>\n",
       "      <td>158000.0</td>\n",
       "      <td>4.681160e+05</td>\n",
       "    </tr>\n",
       "  </tbody>\n",
       "</table>\n",
       "</div>"
      ],
      "text/plain": [
       "       Actual     Predicted\n",
       "0     25250.0 -1.636736e+05\n",
       "1     77000.0  3.057812e+05\n",
       "2     44000.0 -1.566538e+05\n",
       "3     37990.0  2.937320e+04\n",
       "4     70000.0  2.785791e+05\n",
       "5     19160.0 -2.207102e+05\n",
       "6     75000.0  1.487113e+05\n",
       "7     19000.0  1.083469e+05\n",
       "8     62665.0 -7.153765e+04\n",
       "9   1699000.0  1.959842e+06\n",
       "10  3600000.0  3.153222e+06\n",
       "11   245000.0  1.292953e+06\n",
       "12   232000.0  6.523880e+05\n",
       "13   225000.0  5.295400e+05\n",
       "14   169000.0  4.154669e+05\n",
       "15   258000.0  1.513437e+05\n",
       "16   390000.0  7.401366e+05\n",
       "17   145000.0  4.786459e+05\n",
       "18  2500000.0  2.021266e+06\n",
       "19    20301.0 -1.636736e+05\n",
       "20   100000.0  1.522212e+05\n",
       "21    85000.0  5.833023e+04\n",
       "22    59000.0  1.373039e+05\n",
       "23    40299.0 -1.505114e+05\n",
       "24     5757.0 -3.611079e+05\n",
       "25    46460.0 -2.163228e+05\n",
       "26   335000.0  6.383483e+05\n",
       "27     7200.0 -3.654953e+05\n",
       "28   320000.0  7.103021e+05\n",
       "29   158000.0  4.681160e+05"
      ]
     },
     "execution_count": 28,
     "metadata": {},
     "output_type": "execute_result"
    }
   ],
   "source": [
    "data = pd.DataFrame({'Actual': y_test.flatten(), 'Predicted': y_predicted.flatten()})\n",
    "data.head(30)"
   ]
  },
  {
   "cell_type": "code",
   "execution_count": 29,
   "id": "113e6a68",
   "metadata": {},
   "outputs": [],
   "source": [
    "# Predict.\n",
    "\n",
    "y_predicted_train = regression.predict(X_train) "
   ]
  },
  {
   "cell_type": "code",
   "execution_count": 30,
   "id": "48b979c9",
   "metadata": {},
   "outputs": [],
   "source": [
    "rmse = mean_squared_error(y_train, y_predicted_train)\n",
    "r2 = r2_score(y_train, y_predicted_train)"
   ]
  },
  {
   "cell_type": "code",
   "execution_count": 31,
   "id": "0fabac73",
   "metadata": {},
   "outputs": [
    {
     "name": "stdout",
     "output_type": "stream",
     "text": [
      "Slope: [[87748.56608004]]\n",
      "Mean squared error:  610862703759.8517\n",
      "R2 score:  0.3152495998729159\n"
     ]
    }
   ],
   "source": [
    "print('Slope:' ,regression.coef_)\n",
    "print('Mean squared error: ', rmse)\n",
    "print('R2 score: ', r2)"
   ]
  },
  {
   "cell_type": "code",
   "execution_count": 32,
   "id": "1f415af3",
   "metadata": {},
   "outputs": [
    {
     "data": {
      "image/png": "[encoded data removed]",
      "text/plain": [
       "<Figure size 432x288 with 1 Axes>"
      ]
     },
     "metadata": {
      "needs_background": "light"
     },
     "output_type": "display_data"
    }
   ],
   "source": [
    "# Visualizing the training set results.\n",
    "\n",
    "plot_test = plt\n",
    "plot_test.scatter(X_train, y_train, color='green', s = 15)\n",
    "plot_test.plot(X_train, y_predicted_train, color='red', linewidth =3)\n",
    "plot_test.title('Length vs Price (Train set)')\n",
    "plot_test.xlabel('Length (m)')\n",
    "plot_test.ylabel('Euro Price')\n",
    "plot_test.show()"
   ]
  },
  {
   "cell_type": "code",
   "execution_count": 33,
   "id": "4b3a1a77",
   "metadata": {},
   "outputs": [],
   "source": [
    "# Excluding listed prices greater than 10 million Euros\n",
    "\n",
    "df_test = df[df['Euro Price'] <=10000000] "
   ]
  },
  {
   "cell_type": "code",
   "execution_count": 34,
   "id": "6ff233ad",
   "metadata": {},
   "outputs": [],
   "source": [
    "df_test = df_test[df_test['Length'] <=60] "
   ]
  },
  {
   "cell_type": "code",
   "execution_count": 35,
   "id": "bde1f6cd",
   "metadata": {},
   "outputs": [
    {
     "data": {
      "image/png": "[encoded data removed]",
      "text/plain": [
       "<Figure size 432x288 with 1 Axes>"
      ]
     },
     "metadata": {
      "needs_background": "light"
     },
     "output_type": "display_data"
    }
   ],
   "source": [
    "# See how the scatterplot looks without outliers.\n",
    "\n",
    "df_test.plot(x = 'Length', y='Euro Price', style='o')  \n",
    "plt.title('Length vs Price')  \n",
    "plt.xlabel('Length (m)')  \n",
    "plt.ylabel('Euro Price')  \n",
    "plt.show()"
   ]
  },
  {
   "cell_type": "code",
   "execution_count": 36,
   "id": "166c34a9",
   "metadata": {},
   "outputs": [],
   "source": [
    "# Reshape again.\n",
    "\n",
    "X_2 = df_test['Length'].values.reshape(-1,1)\n",
    "y_2 = df_test['Euro Price'].values.reshape(-1,1)"
   ]
  },
  {
   "cell_type": "code",
   "execution_count": 37,
   "id": "4b677a14",
   "metadata": {},
   "outputs": [],
   "source": [
    "X_train_2, X_test_2, y_train_2, y_test_2 = train_test_split(X_2, y_2, test_size=0.3, random_state=0)"
   ]
  },
  {
   "cell_type": "code",
   "execution_count": 38,
   "id": "0d6cd7d7",
   "metadata": {},
   "outputs": [
    {
     "data": {
      "text/plain": [
       "LinearRegression()"
      ]
     },
     "execution_count": 38,
     "metadata": {},
     "output_type": "execute_result"
    }
   ],
   "source": [
    "# Run and fit the regression.\n",
    "\n",
    "regression = LinearRegression()  \n",
    "regression.fit(X_train_2, y_train_2)"
   ]
  },
  {
   "cell_type": "code",
   "execution_count": 39,
   "id": "1164dab4",
   "metadata": {},
   "outputs": [],
   "source": [
    "# Predict.\n",
    "\n",
    "y_predicted_2 = regression.predict(X_test_2)"
   ]
  },
  {
   "cell_type": "code",
   "execution_count": 40,
   "id": "82ed002c",
   "metadata": {},
   "outputs": [],
   "source": [
    "rmse = mean_squared_error(y_test_2, y_predicted_2)\n",
    "r2 = r2_score(y_test_2, y_predicted_2)"
   ]
  },
  {
   "cell_type": "code",
   "execution_count": 41,
   "id": "b3354c7b",
   "metadata": {},
   "outputs": [
    {
     "name": "stdout",
     "output_type": "stream",
     "text": [
      "Slope: [[75383.28843306]]\n",
      "Mean squared error:  235346571125.99402\n",
      "R2 score:  0.4176819929228326\n"
     ]
    }
   ],
   "source": [
    "print('Slope:' ,regression.coef_)\n",
    "print('Mean squared error: ', rmse)\n",
    "print('R2 score: ', r2)"
   ]
  },
  {
   "cell_type": "code",
   "execution_count": 42,
   "id": "e77b408f",
   "metadata": {},
   "outputs": [
    {
     "data": {
      "image/png": "[encoded data removed]",
      "text/plain": [
       "<Figure size 432x288 with 1 Axes>"
      ]
     },
     "metadata": {
      "needs_background": "light"
     },
     "output_type": "display_data"
    }
   ],
   "source": [
    "# Visualizing the test set results.\n",
    "plot_test = plt\n",
    "plot_test.scatter(X_test_2, y_test_2, color='gray', s = 15)\n",
    "plot_test.plot(X_test_2, y_predicted_2, color='red', linewidth =3)\n",
    "plot_test.title('Length vs Price (Test set)')\n",
    "plot_test.xlabel('Length (m)')\n",
    "plot_test.ylabel('Euro Price')\n",
    "plot_test.show()"
   ]
  },
  {
   "cell_type": "markdown",
   "id": "49fa8fe1",
   "metadata": {},
   "source": [
    "### The slope indicates that for every 1 meter increase in length, the listed price of the boat increases by ~75,000 euros. The MSE is extremely high and indicates the relationship is not very accurate. However, the R squared value indicates that around 41% of the variation in Euro Price can be explained by the length of the boat. Bias could be affecting the results, as the prices are only the listed prices determined by the owner/seller, and not the price actually paid for the boat. In conclusion, the model performed moderately well, but can certainly be improved."
   ]
  },
  {
   "cell_type": "markdown",
   "id": "4b2305f7",
   "metadata": {},
   "source": [
    "# 4. Exporting Data"
   ]
  },
  {
   "cell_type": "code",
   "execution_count": 43,
   "id": "05628326",
   "metadata": {},
   "outputs": [],
   "source": [
    "# Exporting data\n",
    "df.to_pickle(os.path.join(path, '3Clean_Boat_Data.pkl'))"
   ]
  },
  {
   "cell_type": "code",
   "execution_count": null,
   "id": "f7b6dfd5",
   "metadata": {},
   "outputs": [],
   "source": []
  }
 ],
 "metadata": {
  "kernelspec": {
   "display_name": "Python 3 (ipykernel)",
   "language": "python",
   "name": "python3"
  },
  "language_info": {
   "codemirror_mode": {
    "name": "ipython",
    "version": 3
   },
   "file_extension": ".py",
   "mimetype": "text/x-python",
   "name": "python",
   "nbconvert_exporter": "python",
   "pygments_lexer": "ipython3",
   "version": "3.9.12"
  }
 },
 "nbformat": 4,
 "nbformat_minor": 5
}
